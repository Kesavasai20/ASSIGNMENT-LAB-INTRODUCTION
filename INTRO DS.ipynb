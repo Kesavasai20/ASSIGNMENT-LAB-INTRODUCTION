{
  "nbformat": 4,
  "nbformat_minor": 0,
  "metadata": {
    "colab": {
      "provenance": []
    },
    "kernelspec": {
      "name": "python3",
      "display_name": "Python 3"
    },
    "language_info": {
      "name": "python"
    }
  },
  "cells": [
    {
      "cell_type": "markdown",
      "source": [
        "# 19AI403 ASSIGNMENT-LAB INTRODUCTION\n",
        "### Prepared By : K SANTHAN KUMAR\n",
        "### Register Number : 212223240065\n",
        "### DEPT : AIML 2nd YEAR"
      ],
      "metadata": {
        "id": "Na4v97s_baud"
      }
    },
    {
      "cell_type": "markdown",
      "source": [
        "# **ACTIVITY 1 :** :"
      ],
      "metadata": {
        "id": "pQgzQY0Hb3kL"
      }
    },
    {
      "cell_type": "markdown",
      "source": [
        "## Task 1. Write a Python program to select the 'name' and 'score' columns from the following DataFrame.\n",
        "\n"
      ],
      "metadata": {
        "id": "TC5uqDnmcCSR"
      }
    },
    {
      "cell_type": "code",
      "source": [
        "import pandas as pd\n",
        "import numpy as np\n",
        "\n",
        "exam_data = {\n",
        "    'name': ['Anastasia', 'Dima', 'Katherine', 'James', 'Emily', 'Michael', 'Matthew', 'Laura', 'Kevin', 'Jonas'],\n",
        "    'score': [12.5, 9, 16.5, np.nan, 9, 20, 14.5, np.nan, 8, 19],\n",
        "    'attempts': [1, 3, 4, 3, 5, 3, 6, 1, 7, 1]\n",
        "}\n",
        "\n",
        "df = pd.DataFrame(exam_data)\n",
        "\n",
        "selected_columns = df[['name', 'score']]\n",
        "print(selected_columns)\n"
      ],
      "metadata": {
        "colab": {
          "base_uri": "https://localhost:8080/"
        },
        "id": "rVQTDffobb3z",
        "outputId": "6a42b599-3782-4477-8b17-d6c8b4f43db0"
      },
      "execution_count": 20,
      "outputs": [
        {
          "output_type": "stream",
          "name": "stdout",
          "text": [
            "        name  score\n",
            "0  Anastasia   12.5\n",
            "1       Dima    9.0\n",
            "2  Katherine   16.5\n",
            "3      James    NaN\n",
            "4      Emily    9.0\n",
            "5    Michael   20.0\n",
            "6    Matthew   14.5\n",
            "7      Laura    NaN\n",
            "8      Kevin    8.0\n",
            "9      Jonas   19.0\n"
          ]
        }
      ]
    },
    {
      "cell_type": "markdown",
      "source": [
        "## Task 2: Selecting the data where attempts are greater than 3.\n"
      ],
      "metadata": {
        "id": "_YG6Ho3nYFtP"
      }
    },
    {
      "cell_type": "code",
      "source": [
        "filtered_data = df[df['attempts'] > 3]\n",
        "print(filtered_data)\n"
      ],
      "metadata": {
        "colab": {
          "base_uri": "https://localhost:8080/"
        },
        "id": "FeQi8wFPX2fI",
        "outputId": "8b05cb22-c95d-4536-e8a0-879b46eea840"
      },
      "execution_count": 2,
      "outputs": [
        {
          "output_type": "stream",
          "name": "stdout",
          "text": [
            "        name  score  attempts\n",
            "2  Katherine   16.5         4\n",
            "4      Emily    9.0         5\n",
            "6    Matthew   14.5         6\n",
            "8      Kevin    8.0         7\n"
          ]
        }
      ]
    },
    {
      "cell_type": "markdown",
      "source": [
        "## Task 3: Indexing rows and columns based on conditions.\n"
      ],
      "metadata": {
        "id": "4axLc3A4YOip"
      }
    },
    {
      "cell_type": "code",
      "source": [
        "data = {\n",
        "    'name': ['Alice', 'Bob', 'Charlie', 'Dave'],\n",
        "    'age': [25, 35, 40, 28],\n",
        "    'gender': ['F', 'M', 'M', 'M'],\n",
        "    'salary': [50000, 70000, 60000, 80000]\n",
        "}\n",
        "\n",
        "df = pd.DataFrame(data)\n"
      ],
      "metadata": {
        "id": "Rl1_5x8HYMnp"
      },
      "execution_count": 18,
      "outputs": []
    },
    {
      "cell_type": "code",
      "source": [
        "# a. Select rows where age is greater than 30:\n",
        "age_filtered = df[df['age'] > 30]\n",
        "print(\"Rows where age is greater than 30:\\n\", age_filtered)"
      ],
      "metadata": {
        "colab": {
          "base_uri": "https://localhost:8080/"
        },
        "id": "9teT0sB8a-1e",
        "outputId": "e8efb9a0-7412-4aa2-8839-bcf5f42e96aa"
      },
      "execution_count": 19,
      "outputs": [
        {
          "output_type": "stream",
          "name": "stdout",
          "text": [
            "Rows where age is greater than 30:\n",
            "       name  age gender  salary\n",
            "1      Bob   35      M   70000\n",
            "2  Charlie   40      M   60000\n"
          ]
        }
      ]
    },
    {
      "cell_type": "code",
      "source": [
        "# b. Select rows where name contains 'e':\n",
        "name_filtered = df[df['name'].str.contains('e')]\n",
        "print(\"Rows where name contains 'e':\\n\", name_filtered)\n"
      ],
      "metadata": {
        "colab": {
          "base_uri": "https://localhost:8080/"
        },
        "id": "geHNbSKpYS4y",
        "outputId": "a10d4a41-a199-4e88-db74-9e5c7d1e7acc"
      },
      "execution_count": 5,
      "outputs": [
        {
          "output_type": "stream",
          "name": "stdout",
          "text": [
            "Rows where name contains 'e':\n",
            "       name  age gender  salary\n",
            "0    Alice   25      F   50000\n",
            "2  Charlie   40      M   60000\n",
            "3     Dave   28      M   80000\n"
          ]
        }
      ]
    },
    {
      "cell_type": "code",
      "source": [
        "# c. Select rows where gender is 'M' and salary is greater than 65000:\n",
        "gender_salary_filtered = df[(df['gender'] == 'M') & (df['salary'] > 65000)]\n",
        "print(\"Rows where gender is 'M' and salary is greater than 65000:\\n\", gender_salary_filtered)\n"
      ],
      "metadata": {
        "colab": {
          "base_uri": "https://localhost:8080/"
        },
        "id": "d6vD7m5yYXrC",
        "outputId": "afde9e0f-6cf6-4dd8-8e72-f77bea15a4b0"
      },
      "execution_count": 6,
      "outputs": [
        {
          "output_type": "stream",
          "name": "stdout",
          "text": [
            "Rows where gender is 'M' and salary is greater than 65000:\n",
            "    name  age gender  salary\n",
            "1   Bob   35      M   70000\n",
            "3  Dave   28      M   80000\n"
          ]
        }
      ]
    },
    {
      "cell_type": "code",
      "source": [
        "# d. Select columns 'name' and 'age'\n",
        "name_age = df[['name', 'age']]\n",
        "print(\"Columns 'name' and 'age':\\n\", name_age)\n"
      ],
      "metadata": {
        "colab": {
          "base_uri": "https://localhost:8080/"
        },
        "id": "8s_KflqtYZSD",
        "outputId": "d1f42a50-b869-47e5-c29d-79433900e38a"
      },
      "execution_count": 7,
      "outputs": [
        {
          "output_type": "stream",
          "name": "stdout",
          "text": [
            "Columns 'name' and 'age':\n",
            "       name  age\n",
            "0    Alice   25\n",
            "1      Bob   35\n",
            "2  Charlie   40\n",
            "3     Dave   28\n"
          ]
        }
      ]
    },
    {
      "cell_type": "markdown",
      "source": [
        "# **ACTIVITY 2 :**"
      ],
      "metadata": {
        "id": "Femr7tLNYvMa"
      }
    },
    {
      "cell_type": "code",
      "source": [
        "import pandas as pd\n",
        "\n",
        "df_bank = pd.read_csv('/content/bank_train (1).csv')\n"
      ],
      "metadata": {
        "id": "CkKJ9d_wYeSu"
      },
      "execution_count": 10,
      "outputs": []
    },
    {
      "cell_type": "markdown",
      "source": [
        "## Task a: Select the rows where clients with primary education have subscribed to a deposit\n"
      ],
      "metadata": {
        "id": "MDK9NzeFZ3iY"
      }
    },
    {
      "cell_type": "code",
      "source": [
        "primary_education_subscribed = df_bank.loc[(df_bank['education'] == 'primary') & (df_bank['deposit'] == 'yes')]\n",
        "print(primary_education_subscribed)\n"
      ],
      "metadata": {
        "colab": {
          "base_uri": "https://localhost:8080/"
        },
        "id": "scNEx_hwZu_s",
        "outputId": "78728295-ca2f-4e88-cba5-a165262f47fe"
      },
      "execution_count": 11,
      "outputs": [
        {
          "output_type": "stream",
          "name": "stdout",
          "text": [
            "      age          job   marital education default  balance housing loan  \\\n",
            "29     39  blue-collar  divorced   primary      no   1317.0     yes   no   \n",
            "39     31   unemployed    single   primary      no    163.0      no   no   \n",
            "56     49  blue-collar    single   primary      no    566.0     yes   no   \n",
            "66     53  blue-collar   married   primary     yes   -462.0      no   no   \n",
            "103    42  blue-collar    single   primary      no   4930.0      no   no   \n",
            "...   ...          ...       ...       ...     ...      ...     ...  ...   \n",
            "4411   55    housemaid   married   primary      no      0.0     yes   no   \n",
            "4422   80      retired   married   primary      no   1468.0      no   no   \n",
            "4451   41  blue-collar   married   primary      no    143.0     yes  yes   \n",
            "4452   53  blue-collar   married   primary      no    421.0     yes   no   \n",
            "4458   32  blue-collar   married   primary      no   -454.0     yes  yes   \n",
            "\n",
            "       contact  day month  duration  campaign  pdays  previous poutcome  \\\n",
            "29    cellular   20   nov       543         1    170         4    other   \n",
            "39    cellular   30   jan       707         2      2         1    other   \n",
            "56    cellular   25   jul       979         2     -1         0  unknown   \n",
            "66    cellular   29   jan       470         1     -1         0  unknown   \n",
            "103    unknown   18   jun       973         1     -1         0  unknown   \n",
            "...        ...  ...   ...       ...       ...    ...       ...      ...   \n",
            "4411  cellular   17   jul      1303         2     -1         0  unknown   \n",
            "4422  cellular   13   jan       330         3     -1         0  unknown   \n",
            "4451   unknown    2   jun       659         2     -1         0  unknown   \n",
            "4452  cellular   20   nov       677         1     -1         0  unknown   \n",
            "4458  cellular   18   may       801         5    355         2  failure   \n",
            "\n",
            "     deposit  \n",
            "29       yes  \n",
            "39       yes  \n",
            "56       yes  \n",
            "66       yes  \n",
            "103      yes  \n",
            "...      ...  \n",
            "4411     yes  \n",
            "4422     yes  \n",
            "4451     yes  \n",
            "4452     yes  \n",
            "4458     yes  \n",
            "\n",
            "[243 rows x 17 columns]\n"
          ]
        }
      ]
    },
    {
      "cell_type": "markdown",
      "source": [
        "## Task b: Select the rows where clients have not subscribed to a deposit\n"
      ],
      "metadata": {
        "id": "jibCBkN0Z7j-"
      }
    },
    {
      "cell_type": "code",
      "source": [
        "not_subscribed = df_bank.loc[df_bank['deposit'] == 'no']\n",
        "print(not_subscribed)\n"
      ],
      "metadata": {
        "colab": {
          "base_uri": "https://localhost:8080/"
        },
        "id": "MYRxV7r6Z6mb",
        "outputId": "a9a15d57-2847-4392-b23e-48eb409275a1"
      },
      "execution_count": 12,
      "outputs": [
        {
          "output_type": "stream",
          "name": "stdout",
          "text": [
            "      age          job   marital  education default  balance housing loan  \\\n",
            "0      76      retired   married  secondary      no   2302.0      no   no   \n",
            "3      41  blue-collar   married  secondary      no    356.0     yes   no   \n",
            "6      59      retired   married  secondary      no    136.0      no   no   \n",
            "7      34  blue-collar   married    primary      no   5299.0     yes   no   \n",
            "9      44  blue-collar   married  secondary      no    879.0     yes   no   \n",
            "...   ...          ...       ...        ...     ...      ...     ...  ...   \n",
            "4457   43   management   married   tertiary      no   1336.0     yes  yes   \n",
            "4460   54      retired   married  secondary      no    522.0      no  yes   \n",
            "4461   33   management   married   tertiary      no    133.0     yes   no   \n",
            "4464   31   technician    single  secondary      no    628.0     yes   no   \n",
            "4465   70      retired  divorced    primary      no    383.0      no   no   \n",
            "\n",
            "        contact  day month  duration  campaign  pdays  previous poutcome  \\\n",
            "0     telephone    5   feb       110         1     87         2  failure   \n",
            "3      cellular   14   may        90         5     -1         0  unknown   \n",
            "6      cellular    6   aug       301         4     -1         0  unknown   \n",
            "7       unknown   26   jun        75         5     -1         0  unknown   \n",
            "9      cellular    3   apr       383         1     -1         0  unknown   \n",
            "...         ...  ...   ...       ...       ...    ...       ...      ...   \n",
            "4457   cellular   27   may        82         2    309         1  failure   \n",
            "4460   cellular   14   jul        81         3     -1         0  unknown   \n",
            "4461    unknown   26   may       308         4     -1         0  unknown   \n",
            "4464    unknown   12   may      1083         2     -1         0  unknown   \n",
            "4465   cellular   28   apr        50         2     -1         0  unknown   \n",
            "\n",
            "     deposit  \n",
            "0         no  \n",
            "3         no  \n",
            "6         no  \n",
            "7         no  \n",
            "9         no  \n",
            "...      ...  \n",
            "4457      no  \n",
            "4460      no  \n",
            "4461      no  \n",
            "4464      no  \n",
            "4465      no  \n",
            "\n",
            "[2354 rows x 17 columns]\n"
          ]
        }
      ]
    },
    {
      "cell_type": "markdown",
      "source": [
        "## Task c: Select the rows where clients who have subscribed to a deposit either have a housing or a personal loan\n"
      ],
      "metadata": {
        "id": "Z6gGSDYoaBEw"
      }
    },
    {
      "cell_type": "code",
      "source": [
        "subscribed_with_loans = df_bank.loc[(df_bank['deposit'] == 'yes') & ((df_bank['housing'] == 'yes') | (df_bank['loan'] == 'yes'))]\n",
        "print(subscribed_with_loans)\n"
      ],
      "metadata": {
        "colab": {
          "base_uri": "https://localhost:8080/"
        },
        "id": "4MTRpWkRZ_Cc",
        "outputId": "9e95460c-922f-4ac9-b50f-a840f82f8e7a"
      },
      "execution_count": 13,
      "outputs": [
        {
          "output_type": "stream",
          "name": "stdout",
          "text": [
            "      age          job   marital  education default  balance housing loan  \\\n",
            "2      51   management   married   tertiary      no   2455.0     yes   no   \n",
            "4      51   technician   married  secondary      no  -1944.0     yes   no   \n",
            "15     37   management    single   tertiary      no    455.0     yes   no   \n",
            "17     24       admin.    single   tertiary      no      0.0     yes   no   \n",
            "21     33       admin.   married   tertiary      no     79.0     yes   no   \n",
            "...   ...          ...       ...        ...     ...      ...     ...  ...   \n",
            "4454   30  blue-collar    single  secondary      no    155.0     yes  yes   \n",
            "4458   32  blue-collar   married    primary      no   -454.0     yes  yes   \n",
            "4459   37   technician    single  secondary      no   3326.0     yes   no   \n",
            "4462   39     services  divorced  secondary      no    687.0     yes   no   \n",
            "4463   40       admin.    single  secondary      no   2040.0     yes   no   \n",
            "\n",
            "       contact  day month  duration  campaign  pdays  previous poutcome  \\\n",
            "2     cellular   21   jul       553         1     -1         0  unknown   \n",
            "4     cellular    7   may       623         1     -1         0  unknown   \n",
            "15    cellular   13   aug       904         6     -1         0  unknown   \n",
            "17    cellular   27   may       122         2     -1         0  unknown   \n",
            "21    cellular    5   may       389         1    195         4  success   \n",
            "...        ...  ...   ...       ...       ...    ...       ...      ...   \n",
            "4454  cellular    9   jul      1426         3     -1         0  unknown   \n",
            "4458  cellular   18   may       801         5    355         2  failure   \n",
            "4459   unknown   21   may       799         1     -1         0  unknown   \n",
            "4462  cellular    9   jul       869         1     -1         0  unknown   \n",
            "4463  cellular   18   may       906         2    350         2  failure   \n",
            "\n",
            "     deposit  \n",
            "2        yes  \n",
            "4        yes  \n",
            "15       yes  \n",
            "17       yes  \n",
            "21       yes  \n",
            "...      ...  \n",
            "4454     yes  \n",
            "4458     yes  \n",
            "4459     yes  \n",
            "4462     yes  \n",
            "4463     yes  \n",
            "\n",
            "[893 rows x 17 columns]\n"
          ]
        }
      ]
    },
    {
      "cell_type": "markdown",
      "source": [
        "## Task d: Select the rows where clients with secondary education who have not subscribed to a deposit\n"
      ],
      "metadata": {
        "id": "AWgiO3DXaFsQ"
      }
    },
    {
      "cell_type": "code",
      "source": [
        "secondary_not_subscribed = df_bank.loc[(df_bank['education'] == 'secondary') & (df_bank['deposit'] == 'no')]\n",
        "print(secondary_not_subscribed)\n"
      ],
      "metadata": {
        "colab": {
          "base_uri": "https://localhost:8080/"
        },
        "id": "86KtB0XaaDQp",
        "outputId": "58613379-9773-42de-dedc-060b7326bb20"
      },
      "execution_count": 14,
      "outputs": [
        {
          "output_type": "stream",
          "name": "stdout",
          "text": [
            "      age          job  marital  education default  balance housing loan  \\\n",
            "0      76      retired  married  secondary      no   2302.0      no   no   \n",
            "3      41  blue-collar  married  secondary      no    356.0     yes   no   \n",
            "6      59      retired  married  secondary      no    136.0      no   no   \n",
            "9      44  blue-collar  married  secondary      no    879.0     yes   no   \n",
            "10     34     services  married  secondary      no   1637.0     yes   no   \n",
            "...   ...          ...      ...        ...     ...      ...     ...  ...   \n",
            "4446   35     services  married  secondary      no      0.0     yes   no   \n",
            "4453   31     services  married  secondary      no    505.0      no   no   \n",
            "4456   54  blue-collar  married  secondary      no   -102.0     yes   no   \n",
            "4460   54      retired  married  secondary      no    522.0      no  yes   \n",
            "4464   31   technician   single  secondary      no    628.0     yes   no   \n",
            "\n",
            "        contact  day month  duration  campaign  pdays  previous poutcome  \\\n",
            "0     telephone    5   feb       110         1     87         2  failure   \n",
            "3      cellular   14   may        90         5     -1         0  unknown   \n",
            "6      cellular    6   aug       301         4     -1         0  unknown   \n",
            "9      cellular    3   apr       383         1     -1         0  unknown   \n",
            "10     cellular   21   nov       107         4     -1         0  unknown   \n",
            "...         ...  ...   ...       ...       ...    ...       ...      ...   \n",
            "4446   cellular   24   jul       810         1     -1         0  unknown   \n",
            "4453   cellular   11   jul       773         3     -1         0  unknown   \n",
            "4456   cellular   27   aug       164         7     -1         0  unknown   \n",
            "4460   cellular   14   jul        81         3     -1         0  unknown   \n",
            "4464    unknown   12   may      1083         2     -1         0  unknown   \n",
            "\n",
            "     deposit  \n",
            "0         no  \n",
            "3         no  \n",
            "6         no  \n",
            "9         no  \n",
            "10        no  \n",
            "...      ...  \n",
            "4446      no  \n",
            "4453      no  \n",
            "4456      no  \n",
            "4460      no  \n",
            "4464      no  \n",
            "\n",
            "[1229 rows x 17 columns]\n"
          ]
        }
      ]
    },
    {
      "cell_type": "markdown",
      "source": [
        "## Task e: Select the rows where clients who have subscribed to a term deposit as an outcome of the successful marketing campaign\n"
      ],
      "metadata": {
        "id": "mupxAv1caRgP"
      }
    },
    {
      "cell_type": "code",
      "source": [
        "subscribed_success = df_bank.loc[(df_bank['deposit'] == 'yes') & (df_bank['poutcome'] == 'success')]\n",
        "print(subscribed_success)\n"
      ],
      "metadata": {
        "colab": {
          "base_uri": "https://localhost:8080/"
        },
        "id": "7Kjs1UhQaOnv",
        "outputId": "e4f2e69e-67c5-49ef-c91b-6d91169c7be5"
      },
      "execution_count": 15,
      "outputs": [
        {
          "output_type": "stream",
          "name": "stdout",
          "text": [
            "      age            job   marital  education default  balance housing loan  \\\n",
            "19     76  self-employed   married    unknown      no   4984.0      no   no   \n",
            "21     33         admin.   married   tertiary      no     79.0     yes   no   \n",
            "45     71        retired  divorced  secondary      no      0.0      no   no   \n",
            "51     68        retired   married  secondary      no   1146.0      no   no   \n",
            "52     46     management   married   tertiary      no    273.0     yes   no   \n",
            "...   ...            ...       ...        ...     ...      ...     ...  ...   \n",
            "4338   38         admin.  divorced  secondary      no     19.0     yes   no   \n",
            "4372   20        student    single  secondary      no    215.0      no   no   \n",
            "4376   42     technician   married  secondary      no    994.0     yes   no   \n",
            "4408   29      housemaid    single   tertiary      no     19.0      no   no   \n",
            "4448   27    blue-collar    single  secondary      no    535.0      no   no   \n",
            "\n",
            "        contact  day month  duration  campaign  pdays  previous poutcome  \\\n",
            "19    telephone   28   apr       403         1    182         1  success   \n",
            "21     cellular    5   may       389         1    195         4  success   \n",
            "45     cellular   26   feb       771         1    171         1  success   \n",
            "51     cellular   13   may       356         1     71         5  success   \n",
            "52     cellular   18   mar       910         2    184         4  success   \n",
            "...         ...  ...   ...       ...       ...    ...       ...      ...   \n",
            "4338   cellular    5   feb      1130         3    251         2  success   \n",
            "4372   cellular   24   feb       175         1     92         6  success   \n",
            "4376   cellular   12   nov       227         3     93         6  success   \n",
            "4408   cellular    4   may       268         1     88         4  success   \n",
            "4448   cellular   16   aug       265         3     95         4  success   \n",
            "\n",
            "     deposit  \n",
            "19       yes  \n",
            "21       yes  \n",
            "45       yes  \n",
            "51       yes  \n",
            "52       yes  \n",
            "...      ...  \n",
            "4338     yes  \n",
            "4372     yes  \n",
            "4376     yes  \n",
            "4408     yes  \n",
            "4448     yes  \n",
            "\n",
            "[392 rows x 17 columns]\n"
          ]
        }
      ]
    },
    {
      "cell_type": "markdown",
      "source": [
        "## Task f: Select the rows where unemployed clients have not subscribed to deposit\n"
      ],
      "metadata": {
        "id": "-sCuHcZVaWIZ"
      }
    },
    {
      "cell_type": "code",
      "source": [
        "unemployed_not_subscribed = df_bank.loc[(df_bank['job'] == 'unemployed') & (df_bank['deposit'] == 'no')]\n",
        "print(unemployed_not_subscribed)\n"
      ],
      "metadata": {
        "colab": {
          "base_uri": "https://localhost:8080/"
        },
        "id": "j3CZcU3baTmg",
        "outputId": "782ac5a4-ed27-4824-a422-39bb95fb6394"
      },
      "execution_count": 16,
      "outputs": [
        {
          "output_type": "stream",
          "name": "stdout",
          "text": [
            "      age         job   marital  education default  balance housing loan  \\\n",
            "74     37  unemployed    single  secondary      no     48.0      no   no   \n",
            "304    48  unemployed   married  secondary      no    855.0     yes   no   \n",
            "404    57  unemployed   married    primary      no      0.0     yes   no   \n",
            "464    47  unemployed  divorced  secondary      no    947.0      no   no   \n",
            "494    45  unemployed   married   tertiary      no   1148.0      no   no   \n",
            "550    55  unemployed   married    primary      no   8585.0      no   no   \n",
            "644    35  unemployed    single  secondary      no   2116.0     yes   no   \n",
            "690    31  unemployed    single    unknown      no    167.0      no   no   \n",
            "705    42  unemployed  divorced  secondary      no    759.0      no   no   \n",
            "811    38  unemployed   married  secondary      no    995.0      no   no   \n",
            "821    43  unemployed   married  secondary      no   1943.0     yes   no   \n",
            "827    52  unemployed   married  secondary      no   1639.0      no   no   \n",
            "856    31  unemployed   married  secondary      no     20.0      no   no   \n",
            "966    42  unemployed   married  secondary      no   -165.0     yes  yes   \n",
            "967    57  unemployed   married  secondary      no   1350.0      no   no   \n",
            "1003   35  unemployed   married  secondary      no   2080.0     yes   no   \n",
            "1123   50  unemployed   married  secondary      no   3478.0     yes   no   \n",
            "1236   43  unemployed  divorced  secondary      no   1854.0      no   no   \n",
            "1351   38  unemployed  divorced  secondary      no    189.0     yes  yes   \n",
            "1424   40  unemployed  divorced  secondary      no    262.0     yes   no   \n",
            "1633   41  unemployed    single   tertiary      no   4517.0     yes   no   \n",
            "1828   31  unemployed    single  secondary      no    209.0     yes   no   \n",
            "1848   41  unemployed   married    primary      no    183.0     yes   no   \n",
            "1850   30  unemployed   married  secondary      no    142.0     yes   no   \n",
            "1961   58  unemployed   married  secondary      no    610.0     yes   no   \n",
            "2060   33  unemployed    single  secondary      no    233.0     yes   no   \n",
            "2184   41  unemployed  divorced  secondary      no    271.0     yes   no   \n",
            "2292   40  unemployed   married  secondary      no   1289.0      no   no   \n",
            "2308   50  unemployed   married  secondary      no    297.0     yes   no   \n",
            "2364   43  unemployed   married  secondary      no    553.0      no   no   \n",
            "2464   55  unemployed   married    primary      no   1221.0      no  yes   \n",
            "2513   55  unemployed   married  secondary      no    512.0      no   no   \n",
            "2603   33  unemployed    single  secondary      no    682.0      no   no   \n",
            "2681   40  unemployed   married   tertiary      no   2430.0      no   no   \n",
            "2699   52  unemployed   married   tertiary      no   2133.0      no  yes   \n",
            "2754   55  unemployed   married   tertiary      no   5345.0      no   no   \n",
            "2762   43  unemployed   married  secondary      no    775.0      no   no   \n",
            "2827   54  unemployed    single  secondary      no   3611.0     yes   no   \n",
            "2913   44  unemployed   married    primary      no     97.0     yes   no   \n",
            "2929   40  unemployed   married  secondary      no   1077.0     yes  yes   \n",
            "3145   36  unemployed   married  secondary      no    439.0     yes   no   \n",
            "3263   47  unemployed    single  secondary      no   4819.0      no   no   \n",
            "3313   45  unemployed    single  secondary      no    382.0     yes  yes   \n",
            "3556   40  unemployed   married  secondary      no    219.0     yes   no   \n",
            "3704   59  unemployed    single  secondary      no    865.0      no   no   \n",
            "3733   46  unemployed  divorced  secondary      no      0.0      no   no   \n",
            "3745   58  unemployed    single   tertiary      no   2094.0      no   no   \n",
            "3905   33  unemployed   married   tertiary      no   3335.0      no   no   \n",
            "3949   46  unemployed   married  secondary      no   2940.0     yes   no   \n",
            "4027   36  unemployed    single   tertiary      no    221.0      no   no   \n",
            "4066   42  unemployed   married   tertiary      no      0.0      no   no   \n",
            "4102   30  unemployed    single  secondary      no      0.0     yes   no   \n",
            "4125   27  unemployed    single   tertiary      no   3060.0      no   no   \n",
            "4130   34  unemployed   married  secondary      no    200.0     yes   no   \n",
            "4140   37  unemployed   married  secondary      no   4769.0      no   no   \n",
            "4179   43  unemployed  divorced  secondary      no      0.0     yes   no   \n",
            "4181   46  unemployed   married  secondary      no  16397.0      no   no   \n",
            "4271   49  unemployed   married  secondary      no  13818.0      no   no   \n",
            "4289   27  unemployed    single  secondary      no      0.0     yes   no   \n",
            "4395   26  unemployed   married  secondary      no    285.0     yes   no   \n",
            "\n",
            "        contact  day month  duration  campaign  pdays  previous poutcome  \\\n",
            "74     cellular   31   jul        40        10     -1         0  unknown   \n",
            "304     unknown    9   may       241         2     -1         0  unknown   \n",
            "404    cellular   20   nov       231         2     -1         0  unknown   \n",
            "464    cellular    5   feb       124         2     -1         0  unknown   \n",
            "494    cellular   19   nov       782         2     -1         0  unknown   \n",
            "550   telephone   28   jan       201         2     -1         0  unknown   \n",
            "644    cellular   13   may       409         2     -1         0  unknown   \n",
            "690    cellular   20   nov       316         1     -1         0  unknown   \n",
            "705    cellular   28   jan        97         1    169         3  failure   \n",
            "811     unknown   26   jul        84         1     -1         0  unknown   \n",
            "821    cellular   18   nov       202         2     -1         0  unknown   \n",
            "827    cellular    8   aug        93         1     -1         0  unknown   \n",
            "856   telephone   18   nov        52         1     -1         0  unknown   \n",
            "966     unknown   27   may       179         3     -1         0  unknown   \n",
            "967    cellular   25   jun       131         1    388         1  failure   \n",
            "1003  telephone   14   apr       266         3     -1         0  unknown   \n",
            "1123    unknown   13   may       342         3     -1         0  unknown   \n",
            "1236   cellular   13   nov       131         2    197         1  success   \n",
            "1351   cellular   21   jul       105         2     -1         0  unknown   \n",
            "1424    unknown   14   may       163         5     -1         0  unknown   \n",
            "1633   cellular   20   nov       137         1     -1         0  unknown   \n",
            "1828   cellular    6   may       193         1     -1         0  unknown   \n",
            "1848   cellular   29   jul       271         1     -1         0  unknown   \n",
            "1850    unknown   20   may       350         4     -1         0  unknown   \n",
            "1961  telephone   29   jul       246         2     -1         0  unknown   \n",
            "2060    unknown    8   may       221         4     -1         0  unknown   \n",
            "2184    unknown   19   jun       196         2     -1         0  unknown   \n",
            "2292   cellular   26   may       260         2     -1         0  unknown   \n",
            "2308   cellular   31   jul        29        10     -1         0  unknown   \n",
            "2364  telephone    4   feb       125         1     -1         0  unknown   \n",
            "2464   cellular    8   jul       108         1     -1         0  unknown   \n",
            "2513   cellular   28   jan        70         1     -1         0  unknown   \n",
            "2603   cellular    5   feb       251         1     -1         0  unknown   \n",
            "2681   cellular   24   aug        87         2     -1         0  unknown   \n",
            "2699   cellular   18   jul        90         1     -1         0  unknown   \n",
            "2754    unknown    6   may       278         1     -1         0  unknown   \n",
            "2762   cellular   14   aug        98         1    106         1  failure   \n",
            "2827   cellular    5   feb        81         1     -1         0  unknown   \n",
            "2913    unknown    5   jun       105         3     -1         0  unknown   \n",
            "2929   cellular   17   nov       148         2     -1         0  unknown   \n",
            "3145  telephone    6   feb        18         6     -1         0  unknown   \n",
            "3263   cellular   18   nov       144         1     -1         0  unknown   \n",
            "3313   cellular   18   may       182         1     -1         0  unknown   \n",
            "3556    unknown    5   may       357         1     -1         0  unknown   \n",
            "3704   cellular    4   feb      1086         1     -1         0  unknown   \n",
            "3733   cellular   30   jul       638         3     -1         0  unknown   \n",
            "3745   cellular    1   jun       161         2     -1         0  unknown   \n",
            "3905   cellular   15   jun        92         1    301         6  failure   \n",
            "3949    unknown   29   may       195         2     -1         0  unknown   \n",
            "4027   cellular    3   feb       225         4     -1         0  unknown   \n",
            "4066   cellular    8   oct       113         1     -1         0  unknown   \n",
            "4102   cellular   16   apr       137         1     -1         0  unknown   \n",
            "4125   cellular   30   jan       533         1     -1         0  unknown   \n",
            "4130    unknown   26   may       155         6     -1         0  unknown   \n",
            "4140   cellular   29   jan       124         1     -1         0  unknown   \n",
            "4179   cellular   24   jul       229         2     -1         0  unknown   \n",
            "4181   cellular   18   nov       641         1     -1         0  unknown   \n",
            "4271   cellular   21   nov       201         1    113         2  failure   \n",
            "4289   cellular   21   jul        53         6     -1         0  unknown   \n",
            "4395   cellular    6   may       265         2    342         2  failure   \n",
            "\n",
            "     deposit  \n",
            "74        no  \n",
            "304       no  \n",
            "404       no  \n",
            "464       no  \n",
            "494       no  \n",
            "550       no  \n",
            "644       no  \n",
            "690       no  \n",
            "705       no  \n",
            "811       no  \n",
            "821       no  \n",
            "827       no  \n",
            "856       no  \n",
            "966       no  \n",
            "967       no  \n",
            "1003      no  \n",
            "1123      no  \n",
            "1236      no  \n",
            "1351      no  \n",
            "1424      no  \n",
            "1633      no  \n",
            "1828      no  \n",
            "1848      no  \n",
            "1850      no  \n",
            "1961      no  \n",
            "2060      no  \n",
            "2184      no  \n",
            "2292      no  \n",
            "2308      no  \n",
            "2364      no  \n",
            "2464      no  \n",
            "2513      no  \n",
            "2603      no  \n",
            "2681      no  \n",
            "2699      no  \n",
            "2754      no  \n",
            "2762      no  \n",
            "2827      no  \n",
            "2913      no  \n",
            "2929      no  \n",
            "3145      no  \n",
            "3263      no  \n",
            "3313      no  \n",
            "3556      no  \n",
            "3704      no  \n",
            "3733      no  \n",
            "3745      no  \n",
            "3905      no  \n",
            "3949      no  \n",
            "4027      no  \n",
            "4066      no  \n",
            "4102      no  \n",
            "4125      no  \n",
            "4130      no  \n",
            "4140      no  \n",
            "4179      no  \n",
            "4181      no  \n",
            "4271      no  \n",
            "4289      no  \n",
            "4395      no  \n"
          ]
        }
      ]
    },
    {
      "cell_type": "markdown",
      "source": [
        "## Task g: Select columns 'name' and 'salary' where age is less than or equal to 30\n",
        "\n",
        "###### This specific question mentions \"name\" and \"salary\", but since the bank_train.csv data columns don't have \"name\" and \"salary\" (but rather \"job\" and \"balance\" could be considered as close equivalents), the code would be:"
      ],
      "metadata": {
        "id": "AxoAVqMxafSu"
      }
    },
    {
      "cell_type": "code",
      "source": [
        "young_clients = df_bank.loc[df_bank['age'] <= 30, ['job', 'balance']]\n",
        "print(young_clients)\n"
      ],
      "metadata": {
        "colab": {
          "base_uri": "https://localhost:8080/"
        },
        "id": "Tk1dwrg5aYfO",
        "outputId": "2a7de5b0-50a3-471d-c390-3b90cfa10798"
      },
      "execution_count": 17,
      "outputs": [
        {
          "output_type": "stream",
          "name": "stdout",
          "text": [
            "              job  balance\n",
            "17         admin.      0.0\n",
            "22    blue-collar    544.0\n",
            "26       services     30.0\n",
            "27       services    195.0\n",
            "40     technician    743.0\n",
            "...           ...      ...\n",
            "4440       admin.    674.0\n",
            "4448  blue-collar    535.0\n",
            "4449  blue-collar     81.0\n",
            "4454  blue-collar    155.0\n",
            "4455   management    265.0\n",
            "\n",
            "[809 rows x 2 columns]\n"
          ]
        }
      ]
    },
    {
      "cell_type": "code",
      "source": [],
      "metadata": {
        "id": "Y0h5IjFiatoz"
      },
      "execution_count": null,
      "outputs": []
    }
  ]
}